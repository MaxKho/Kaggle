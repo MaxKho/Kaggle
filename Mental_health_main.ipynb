{
  "cells": [
    {
      "cell_type": "markdown",
      "source": [
        "# Imports and Installs"
      ],
      "metadata": {
        "id": "iHAQoYStt3wt"
      }
    },
    {
      "cell_type": "code",
      "source": [
        "!pip3 install -U xgboost catboost optuna hillclimbers"
      ],
      "metadata": {
        "colab": {
          "base_uri": "https://localhost:8080/"
        },
        "id": "h9aX_1IIDZw9",
        "outputId": "e73d445d-46f9-4b54-f5ac-c0cd3dcbbc1a"
      },
      "execution_count": null,
      "outputs": [
        {
          "output_type": "stream",
          "name": "stdout",
          "text": [
            "Requirement already satisfied: xgboost in /usr/local/lib/python3.10/dist-packages (2.1.3)\n",
            "Requirement already satisfied: catboost in /usr/local/lib/python3.10/dist-packages (1.2.7)\n",
            "Requirement already satisfied: optuna in /usr/local/lib/python3.10/dist-packages (4.1.0)\n",
            "Requirement already satisfied: hillclimbers in /usr/local/lib/python3.10/dist-packages (0.1.4)\n",
            "Requirement already satisfied: numpy in /usr/local/lib/python3.10/dist-packages (from xgboost) (1.26.4)\n",
            "Requirement already satisfied: nvidia-nccl-cu12 in /usr/local/lib/python3.10/dist-packages (from xgboost) (2.23.4)\n",
            "Requirement already satisfied: scipy in /usr/local/lib/python3.10/dist-packages (from xgboost) (1.13.1)\n",
            "Requirement already satisfied: graphviz in /usr/local/lib/python3.10/dist-packages (from catboost) (0.20.3)\n",
            "Requirement already satisfied: matplotlib in /usr/local/lib/python3.10/dist-packages (from catboost) (3.8.0)\n",
            "Requirement already satisfied: pandas>=0.24 in /usr/local/lib/python3.10/dist-packages (from catboost) (2.2.2)\n",
            "Requirement already satisfied: plotly in /usr/local/lib/python3.10/dist-packages (from catboost) (5.24.1)\n",
            "Requirement already satisfied: six in /usr/local/lib/python3.10/dist-packages (from catboost) (1.16.0)\n",
            "Requirement already satisfied: alembic>=1.5.0 in /usr/local/lib/python3.10/dist-packages (from optuna) (1.14.0)\n",
            "Requirement already satisfied: colorlog in /usr/local/lib/python3.10/dist-packages (from optuna) (6.9.0)\n",
            "Requirement already satisfied: packaging>=20.0 in /usr/local/lib/python3.10/dist-packages (from optuna) (24.2)\n",
            "Requirement already satisfied: sqlalchemy>=1.4.2 in /usr/local/lib/python3.10/dist-packages (from optuna) (2.0.36)\n",
            "Requirement already satisfied: tqdm in /usr/local/lib/python3.10/dist-packages (from optuna) (4.66.6)\n",
            "Requirement already satisfied: PyYAML in /usr/local/lib/python3.10/dist-packages (from optuna) (6.0.2)\n",
            "Requirement already satisfied: colorama in /usr/local/lib/python3.10/dist-packages (from hillclimbers) (0.4.6)\n",
            "Requirement already satisfied: Mako in /usr/local/lib/python3.10/dist-packages (from alembic>=1.5.0->optuna) (1.3.6)\n",
            "Requirement already satisfied: typing-extensions>=4 in /usr/local/lib/python3.10/dist-packages (from alembic>=1.5.0->optuna) (4.12.2)\n",
            "Requirement already satisfied: python-dateutil>=2.8.2 in /usr/local/lib/python3.10/dist-packages (from pandas>=0.24->catboost) (2.8.2)\n",
            "Requirement already satisfied: pytz>=2020.1 in /usr/local/lib/python3.10/dist-packages (from pandas>=0.24->catboost) (2024.2)\n",
            "Requirement already satisfied: tzdata>=2022.7 in /usr/local/lib/python3.10/dist-packages (from pandas>=0.24->catboost) (2024.2)\n",
            "Requirement already satisfied: greenlet!=0.4.17 in /usr/local/lib/python3.10/dist-packages (from sqlalchemy>=1.4.2->optuna) (3.1.1)\n",
            "Requirement already satisfied: contourpy>=1.0.1 in /usr/local/lib/python3.10/dist-packages (from matplotlib->catboost) (1.3.1)\n",
            "Requirement already satisfied: cycler>=0.10 in /usr/local/lib/python3.10/dist-packages (from matplotlib->catboost) (0.12.1)\n",
            "Requirement already satisfied: fonttools>=4.22.0 in /usr/local/lib/python3.10/dist-packages (from matplotlib->catboost) (4.55.0)\n",
            "Requirement already satisfied: kiwisolver>=1.0.1 in /usr/local/lib/python3.10/dist-packages (from matplotlib->catboost) (1.4.7)\n",
            "Requirement already satisfied: pillow>=6.2.0 in /usr/local/lib/python3.10/dist-packages (from matplotlib->catboost) (11.0.0)\n",
            "Requirement already satisfied: pyparsing>=2.3.1 in /usr/local/lib/python3.10/dist-packages (from matplotlib->catboost) (3.2.0)\n",
            "Requirement already satisfied: tenacity>=6.2.0 in /usr/local/lib/python3.10/dist-packages (from plotly->catboost) (9.0.0)\n",
            "Requirement already satisfied: MarkupSafe>=0.9.2 in /usr/local/lib/python3.10/dist-packages (from Mako->alembic>=1.5.0->optuna) (3.0.2)\n"
          ]
        }
      ]
    },
    {
      "cell_type": "code",
      "execution_count": null,
      "metadata": {
        "id": "XEeFZ5E0tWgA"
      },
      "outputs": [],
      "source": [
        "import pandas as pd\n",
        "import numpy as np\n",
        "from sklearn.preprocessing import OneHotEncoder\n",
        "from sklearn.model_selection import train_test_split, StratifiedKFold\n",
        "from sklearn.metrics import accuracy_score\n",
        "from sklearn.linear_model import LogisticRegression\n",
        "from xgboost import XGBClassifier\n",
        "from catboost import CatBoostClassifier\n",
        "from hillclimbers import climb_hill, partial\n",
        "import optuna\n",
        "import logging"
      ]
    },
    {
      "cell_type": "markdown",
      "source": [
        "# Data Loading"
      ],
      "metadata": {
        "id": "7-fPUHkAuC-m"
      }
    },
    {
      "cell_type": "code",
      "execution_count": null,
      "metadata": {
        "id": "Pg9TW9xttWgC"
      },
      "outputs": [],
      "source": [
        "data = pd.read_csv('train.csv')\n",
        "test_data = pd.read_csv('test.csv')\n",
        "data = data.drop(columns=['Name','id'])\n",
        "test_data = test_data.drop(columns=['Name'])\n",
        "original = pd.read_csv('final_depression_dataset_1.csv').drop(columns=['Name'])\n",
        "original['Depression'] = original['Depression'].map({'No': 0, 'Yes': 1})\n",
        "data_comb = pd.concat([data, original], ignore_index=True)\n",
        "data = data_comb.copy()"
      ]
    },
    {
      "cell_type": "code",
      "source": [
        "data_mapped = data.copy()\n",
        "encoding_dict = {\n",
        "    \"Gender\": {\"Female\": 0, \"Male\": 1},\n",
        "    \"Sleep Duration\": {\"Less than 5 hours\": 0, \"5-6 hours\": 1, \"7-8 hours\": 2, \"More than 8 hours\": 3},\n",
        "    \"Dietary Habits\": {\"Unhealthy\": 0, \"Moderate\": 1, \"Healthy\": 2},\n",
        "    \"Degree\": {\n",
        "        \"Class 12\": 0,\n",
        "        \"B.Sc\": 1, \"BHM\": 1, \"B.Ed\": 1, \"B.Arch\": 1, \"B.Com\": 1, \"BBA\": 1, \"B.Pharm\": 1, \"BE\": 1, \"LLB\": 1,\n",
        "        \"ME\": 2, \"M.Tech\": 2, \"MA\": 2, \"MBA\": 2, \"MCA\": 2, \"MHM\": 2, \"PhD\": 3\n",
        "    },\n",
        "    \"Have you ever had suicidal thoughts ?\": {\"No\": 0, \"Yes\": 1},\n",
        "    \"Family History of Mental Illness\": {\"No\": 0, \"Yes\": 1},\n",
        "}\n",
        "\n",
        "for column, mapping in encoding_dict.items():\n",
        "    if column in data.columns:\n",
        "        data_mapped[column] = data_mapped[column].map(mapping)"
      ],
      "metadata": {
        "id": "VSDg31xmA0pO"
      },
      "execution_count": null,
      "outputs": []
    },
    {
      "cell_type": "markdown",
      "source": [
        "# Data Preprocessing"
      ],
      "metadata": {
        "id": "tdi9nyzmuHhf"
      }
    },
    {
      "cell_type": "markdown",
      "source": [
        "## Data Cleaning"
      ],
      "metadata": {
        "id": "hLAZQ_PbyeXr"
      }
    },
    {
      "cell_type": "code",
      "source": [
        "for d in [data, test_data]:\n",
        "  for column in d.columns:\n",
        "    if d.isna().sum()[column] > 0:\n",
        "      try:\n",
        "        d[column].fillna(d[column].mean(), inplace=True)\n",
        "      except:\n",
        "        mode_value = d[column].dropna().mode()[0]\n",
        "        d[column].fillna(mode_value, inplace=True)"
      ],
      "metadata": {
        "colab": {
          "base_uri": "https://localhost:8080/"
        },
        "id": "09OFHUTGydnm",
        "outputId": "392250d6-6d2a-458d-a2d3-80b911cd3dfd"
      },
      "execution_count": null,
      "outputs": [
        {
          "output_type": "stream",
          "name": "stderr",
          "text": [
            "<ipython-input-17-d6869a9c568e>:5: FutureWarning: A value is trying to be set on a copy of a DataFrame or Series through chained assignment using an inplace method.\n",
            "The behavior will change in pandas 3.0. This inplace method will never work because the intermediate object on which we are setting values always behaves as a copy.\n",
            "\n",
            "For example, when doing 'df[col].method(value, inplace=True)', try using 'df.method({col: value}, inplace=True)' or df[col] = df[col].method(value) instead, to perform the operation inplace on the original object.\n",
            "\n",
            "\n",
            "  d[column].fillna(d[column].mean(), inplace=True)\n"
          ]
        }
      ]
    },
    {
      "cell_type": "markdown",
      "source": [
        "## Encoding"
      ],
      "metadata": {
        "id": "vOXQRqwe3m21"
      }
    },
    {
      "cell_type": "code",
      "source": [
        "data_cat = data.copy().apply(lambda x: x.astype(int).astype('category') if x.dtypes == 'float' else x.astype('category'))\n",
        "test_cat = test_data.copy().apply(lambda x: x.astype(int).astype('category') if x.dtypes == 'float' else x.astype('category'))\n",
        "nominal_cols = data.select_dtypes(include=['object', 'category']).columns.tolist()\n",
        "ohe = OneHotEncoder(sparse_output=False, handle_unknown='ignore')\n",
        "data_ohe = pd.DataFrame(ohe.fit_transform(data[nominal_cols]), columns=ohe.get_feature_names_out(nominal_cols), index=data.index)\n",
        "test_data_ohe = pd.DataFrame(ohe.transform(test_data[nominal_cols]), columns=ohe.get_feature_names_out(nominal_cols), index=test_data.index)\n",
        "data = data.drop(columns=nominal_cols).join(data_ohe)\n",
        "test_data = test_data.drop(columns=nominal_cols).join(test_data_ohe)\n",
        "for d in [data, test_data]:\n",
        "  d['Pressure'] = d.apply(lambda row: row['Academic Pressure'] if pd.isna(row['Work Pressure']) else row['Work Pressure'], axis=1)\n",
        "  d = d.drop(columns=['Academic Pressure', 'Work Pressure'])\n",
        "  d['Life Difficulty'] = (d['Financial Stress'] * d['Pressure'])"
      ],
      "metadata": {
        "id": "9-95L7hy3yRe"
      },
      "execution_count": null,
      "outputs": []
    },
    {
      "cell_type": "markdown",
      "source": [
        "## Train-Test Split"
      ],
      "metadata": {
        "id": "kSylY3SXA5UX"
      }
    },
    {
      "cell_type": "code",
      "execution_count": null,
      "metadata": {
        "id": "SUjyZHMltWgN"
      },
      "outputs": [],
      "source": [
        "# Train-test split already performed by Kaggle\n",
        "X_train = data.drop(columns=[\"Depression\"])\n",
        "y_train = data['Depression']\n",
        "X_test = test_data"
      ]
    },
    {
      "cell_type": "markdown",
      "source": [
        "## Normalisation"
      ],
      "metadata": {
        "id": "xauFvH5ZBFxi"
      }
    },
    {
      "cell_type": "code",
      "source": [
        "nominal_cols = X_train.select_dtypes(include=['object', 'category']).columns.tolist()\n",
        "numerical_cols = X_train.select_dtypes(include=np.number).columns.tolist()\n",
        "comb = pd.concat([X_train, X_test])\n",
        "X_train[numerical_cols] = X_train[numerical_cols].apply(pd.to_numeric, errors='coerce')\n",
        "X_test[numerical_cols] = X_test[numerical_cols].apply(pd.to_numeric, errors='coerce')\n",
        "comb[numerical_cols] = comb[numerical_cols].apply(pd.to_numeric, errors='coerce')\n",
        "for col in X_train.columns:\n",
        "  if col not in nominal_cols:\n",
        "    mu = comb[col].mean()\n",
        "    sigma = comb[col].std()\n",
        "    X_train[col] = (X_train[col] - mu) / sigma\n",
        "    X_test[col] = (X_test[col] - mu) / sigma"
      ],
      "metadata": {
        "id": "xeTjG26bBG-H"
      },
      "execution_count": null,
      "outputs": []
    },
    {
      "cell_type": "markdown",
      "source": [
        "# Model Handling"
      ],
      "metadata": {
        "id": "Tnc7eOs4BXtC"
      }
    },
    {
      "cell_type": "markdown",
      "source": [
        "## Model Selection"
      ],
      "metadata": {
        "id": "fTp6cughBspK"
      }
    },
    {
      "cell_type": "code",
      "source": [
        "CB_params = {\n",
        "    \"cat_features\": list(data_cat.drop(columns=[\"Depression\"]).columns),\n",
        "    \"iterations\": 1442,\n",
        "    \"depth\": 5,\n",
        "    \"learning_rate\": 0.06905364829124568,\n",
        "    \"l2_leaf_reg\": 0.0066929612736035355,\n",
        "    \"border_count\": 162,\n",
        "    \"random_strength\": 0.7450573059421522,\n",
        "    \"bootstrap_type\": \"Bernoulli\",\n",
        "    \"od_type\": \"Iter\",\n",
        "    \"od_wait\": 45,\n",
        "    \"min_data_in_leaf\": 4,\n",
        "    \"scale_pos_weight\": 0.6987162615326387,\n",
        "    \"verbose\": 100,\n",
        "}\n",
        "\n",
        "XGB_params = {\n",
        "    \"booster\": \"gbtree\",\n",
        "    \"objective\": \"binary:logistic\",\n",
        "    \"eval_metric\": \"error\",\n",
        "    \"max_depth\": 6,\n",
        "    \"eta\": 0.1,\n",
        "    \"gamma\": 0.5,\n",
        "    \"min_child_weight\": 5,\n",
        "    \"subsample\": 0.8,\n",
        "    \"colsample_bytree\": 0.8,\n",
        "    \"lambda\": 1,\n",
        "    \"alpha\": 0.5,\n",
        "    \"scale_pos_weight\": 1,\n",
        "    \"early_stopping_rounds\": 50\n",
        "}\n",
        "\n",
        "models = {\n",
        "    'XGB': XGBClassifier(random_state=42, **XGB_params),\n",
        "    'LR': LogisticRegression(random_state=42),\n",
        "    'CB': CatBoostClassifier(task_type=\"GPU\", devices=\"0\", random_state=42, **CB_params)\n",
        "}"
      ],
      "metadata": {
        "id": "VGu3pxqwBYpr"
      },
      "execution_count": null,
      "outputs": []
    },
    {
      "cell_type": "markdown",
      "source": [
        "## Model Evaluation"
      ],
      "metadata": {
        "id": "ze0u3wOZB1Gp"
      }
    },
    {
      "cell_type": "code",
      "source": [
        "def cross_validate(model, X_train, X_test, y_train, cv=2):\n",
        "  skf = StratifiedKFold(n_splits=cv, shuffle=True, random_state=42)\n",
        "  accuracy_scores = []\n",
        "  oof_pred = np.zeros(len(y_train))\n",
        "  test_pred = np.zeros(len(X_test))\n",
        "\n",
        "  for train_index, test_index in skf.split(X_train, y_train):\n",
        "  # Model training\n",
        "      X_train_fold, X_test_fold = X_train.iloc[train_index], X_train.iloc[test_index]\n",
        "      y_train_fold, y_test_fold = y_train.iloc[train_index], y_train.iloc[test_index]\n",
        "      if model.__class__.__name__ == 'CatBoostClassifier':\n",
        "        model.fit(X_train_fold, y_train_fold,\n",
        "                  eval_set=[(X_test_fold, y_test_fold)],\n",
        "                  use_best_model=True,\n",
        "                  early_stopping_rounds=50)\n",
        "      if model.__class__.__name__ == 'LogisticRegression':\n",
        "        model.fit(X_train_fold, y_train_fold)\n",
        "      if model.__class__.__name__ == 'XGBClassifier':\n",
        "        model.fit(X_train_fold, y_train_fold,\n",
        "                  eval_set=[(X_test_fold, y_test_fold)])\n",
        "\n",
        "  # Model predictions\n",
        "      y_pred = model.predict(X_test_fold)\n",
        "      oof_pred[test_index] = y_pred\n",
        "      test_pred += model.predict(X_test) / cv\n",
        "      accuracy = accuracy_score(y_test_fold, y_pred)\n",
        "      accuracy_scores.append(accuracy)\n",
        "\n",
        "  # Performance summary\n",
        "  return np.mean(accuracy_scores), oof_pred, test_pred"
      ],
      "metadata": {
        "id": "KneINkCgB2Qr"
      },
      "execution_count": null,
      "outputs": []
    },
    {
      "cell_type": "code",
      "source": [
        "def cross_validate(model, X_train, X_test, y_train, cv=2):\n",
        "  skf = StratifiedKFold(n_splits=cv, shuffle=True, random_state=42)\n",
        "  accuracy_scores = []\n",
        "  oof_pred = np.zeros(len(y_train))\n",
        "  test_pred = np.zeros(len(X_test))\n",
        "\n",
        "  for train_index, test_index in skf.split(X_train, y_train):\n",
        "  # Model training\n",
        "      X_train_fold, X_test_fold = X_train.iloc[train_index], X_train.iloc[test_index]\n",
        "      y_train_fold, y_test_fold = y_train.iloc[train_index], y_train.iloc[test_index]\n",
        "      if model.__class__.__name__ == 'CatBoostClassifier':\n",
        "        model.fit(X_train_fold, y_train_fold,\n",
        "                  eval_set=[(X_test_fold, y_test_fold)],\n",
        "                  use_best_model=True,\n",
        "                  early_stopping_rounds=50)\n",
        "      if model.__class__.__name__ == 'LogisticRegression':\n",
        "        model.fit(X_train_fold, y_train_fold)\n",
        "      if model.__class__.__name__ == 'XGBClassifier':\n",
        "        model.fit(X_train_fold, y_train_fold,\n",
        "                  eval_set=[(X_test_fold, y_test_fold)])\n",
        "\n",
        "  # Model predictions\n",
        "      y_pred = model.predict(X_test_fold)\n",
        "      oof_pred[test_index] = y_pred\n",
        "      test_pred += model.predict(X_test) / cv\n",
        "      accuracy = accuracy_score(y_test_fold, y_pred)\n",
        "      accuracy_scores.append(accuracy)\n",
        "\n",
        "  # Performance summary\n",
        "  return np.mean(accuracy_scores), oof_pred, test_pred\n",
        "\n",
        "oof_preds, test_preds = {}, {}\n",
        "for model_name, model in models.items():\n",
        "  if model_name == 'CB':\n",
        "    X_train_cb = X_train.copy()\n",
        "    X_test_cb = X_test.copy().drop(columns=['id'])\n",
        "    X_train_cb.columns = [f\"{col}_copy\" for col in X_train_cb.columns]\n",
        "    X_test_cb.columns = [f\"{col}_copy\" for col in X_test_cb.columns]\n",
        "    X_train_cb = pd.concat([X_train_cb, data_cat.drop(columns=[\"Depression\"])], axis=1)\n",
        "    X_test_cb = pd.concat([X_test_cb, test_cat.drop(columns=[\"id\"])], axis=1)\n",
        "    X_tr = X_train_cb\n",
        "    X_te = X_test_cb\n",
        "  else:\n",
        "    X_tr, X_te = X_train, X_test.drop(columns=['id'])\n",
        "\n",
        "  mean_accuracy, oof_pred, test_pred = cross_validate(model, X_tr, X_te, y_train, cv=5)\n",
        "  oof_preds[model_name] = oof_pred\n",
        "  test_preds[model_name] = test_pred"
      ],
      "metadata": {
        "id": "s4LZBNh8bLnD",
        "colab": {
          "base_uri": "https://localhost:8080/",
          "height": 1000
        },
        "outputId": "f93644a7-f35b-48ce-e3b2-cf397ae0db3c"
      },
      "execution_count": null,
      "outputs": [
        {
          "output_type": "stream",
          "name": "stdout",
          "text": [
            "[0]\tvalidation_0-error:0.18166\n",
            "[1]\tvalidation_0-error:0.18166\n",
            "[2]\tvalidation_0-error:0.18166\n",
            "[3]\tvalidation_0-error:0.18166\n",
            "[4]\tvalidation_0-error:0.12750\n",
            "[5]\tvalidation_0-error:0.09902\n",
            "[6]\tvalidation_0-error:0.08540\n",
            "[7]\tvalidation_0-error:0.08129\n",
            "[8]\tvalidation_0-error:0.07636\n",
            "[9]\tvalidation_0-error:0.07364\n",
            "[10]\tvalidation_0-error:0.07165\n",
            "[11]\tvalidation_0-error:0.06987\n",
            "[12]\tvalidation_0-error:0.06911\n",
            "[13]\tvalidation_0-error:0.06774\n",
            "[14]\tvalidation_0-error:0.06771\n",
            "[15]\tvalidation_0-error:0.06708\n",
            "[16]\tvalidation_0-error:0.06642\n",
            "[17]\tvalidation_0-error:0.06614\n",
            "[18]\tvalidation_0-error:0.06558\n",
            "[19]\tvalidation_0-error:0.06575\n",
            "[20]\tvalidation_0-error:0.06495\n",
            "[21]\tvalidation_0-error:0.06478\n",
            "[22]\tvalidation_0-error:0.06492\n",
            "[23]\tvalidation_0-error:0.06436\n",
            "[24]\tvalidation_0-error:0.06415\n",
            "[25]\tvalidation_0-error:0.06383\n",
            "[26]\tvalidation_0-error:0.06331\n",
            "[27]\tvalidation_0-error:0.06324\n",
            "[28]\tvalidation_0-error:0.06293\n",
            "[29]\tvalidation_0-error:0.06310\n",
            "[30]\tvalidation_0-error:0.06289\n",
            "[31]\tvalidation_0-error:0.06237\n",
            "[32]\tvalidation_0-error:0.06195\n",
            "[33]\tvalidation_0-error:0.06226\n",
            "[34]\tvalidation_0-error:0.06219\n",
            "[35]\tvalidation_0-error:0.06223\n",
            "[36]\tvalidation_0-error:0.06195\n",
            "[37]\tvalidation_0-error:0.06212\n",
            "[38]\tvalidation_0-error:0.06209\n",
            "[39]\tvalidation_0-error:0.06226\n",
            "[40]\tvalidation_0-error:0.06206\n",
            "[41]\tvalidation_0-error:0.06185\n",
            "[42]\tvalidation_0-error:0.06188\n",
            "[43]\tvalidation_0-error:0.06174\n",
            "[44]\tvalidation_0-error:0.06181\n",
            "[45]\tvalidation_0-error:0.06153\n",
            "[46]\tvalidation_0-error:0.06174\n",
            "[47]\tvalidation_0-error:0.06164\n",
            "[48]\tvalidation_0-error:0.06157\n",
            "[49]\tvalidation_0-error:0.06136\n",
            "[50]\tvalidation_0-error:0.06125\n",
            "[51]\tvalidation_0-error:0.06101\n",
            "[52]\tvalidation_0-error:0.06125\n",
            "[53]\tvalidation_0-error:0.06108\n",
            "[54]\tvalidation_0-error:0.06125\n",
            "[55]\tvalidation_0-error:0.06104\n",
            "[56]\tvalidation_0-error:0.06083\n",
            "[57]\tvalidation_0-error:0.06076\n",
            "[58]\tvalidation_0-error:0.06062\n",
            "[59]\tvalidation_0-error:0.06073\n",
            "[60]\tvalidation_0-error:0.06066\n",
            "[61]\tvalidation_0-error:0.06052\n",
            "[62]\tvalidation_0-error:0.06062\n",
            "[63]\tvalidation_0-error:0.06031\n",
            "[64]\tvalidation_0-error:0.06038\n",
            "[65]\tvalidation_0-error:0.06031\n",
            "[66]\tvalidation_0-error:0.06031\n",
            "[67]\tvalidation_0-error:0.06017\n",
            "[68]\tvalidation_0-error:0.06017\n",
            "[69]\tvalidation_0-error:0.06017\n",
            "[70]\tvalidation_0-error:0.06024\n",
            "[71]\tvalidation_0-error:0.06017\n",
            "[72]\tvalidation_0-error:0.06028\n",
            "[73]\tvalidation_0-error:0.06017\n",
            "[74]\tvalidation_0-error:0.06010\n",
            "[75]\tvalidation_0-error:0.06024\n",
            "[76]\tvalidation_0-error:0.06007\n",
            "[77]\tvalidation_0-error:0.06000\n",
            "[78]\tvalidation_0-error:0.05982\n",
            "[79]\tvalidation_0-error:0.05989\n",
            "[80]\tvalidation_0-error:0.05989\n",
            "[81]\tvalidation_0-error:0.05996\n",
            "[82]\tvalidation_0-error:0.05968\n",
            "[83]\tvalidation_0-error:0.05968\n",
            "[84]\tvalidation_0-error:0.05982\n",
            "[85]\tvalidation_0-error:0.05989\n",
            "[86]\tvalidation_0-error:0.05975\n",
            "[87]\tvalidation_0-error:0.05972\n",
            "[88]\tvalidation_0-error:0.05982\n",
            "[89]\tvalidation_0-error:0.06000\n",
            "[90]\tvalidation_0-error:0.05986\n",
            "[91]\tvalidation_0-error:0.05996\n",
            "[92]\tvalidation_0-error:0.06007\n",
            "[93]\tvalidation_0-error:0.06014\n",
            "[94]\tvalidation_0-error:0.06014\n",
            "[95]\tvalidation_0-error:0.06017\n",
            "[96]\tvalidation_0-error:0.06021\n",
            "[97]\tvalidation_0-error:0.06007\n",
            "[98]\tvalidation_0-error:0.05979\n",
            "[99]\tvalidation_0-error:0.05989\n",
            "[0]\tvalidation_0-error:0.18163\n",
            "[1]\tvalidation_0-error:0.18163\n",
            "[2]\tvalidation_0-error:0.18163\n",
            "[3]\tvalidation_0-error:0.18163\n",
            "[4]\tvalidation_0-error:0.13186\n",
            "[5]\tvalidation_0-error:0.10083\n",
            "[6]\tvalidation_0-error:0.08778\n",
            "[7]\tvalidation_0-error:0.08164\n",
            "[8]\tvalidation_0-error:0.07867\n",
            "[9]\tvalidation_0-error:0.07672\n",
            "[10]\tvalidation_0-error:0.07483\n",
            "[11]\tvalidation_0-error:0.07364\n",
            "[12]\tvalidation_0-error:0.07190\n",
            "[13]\tvalidation_0-error:0.07026\n",
            "[14]\tvalidation_0-error:0.06907\n",
            "[15]\tvalidation_0-error:0.06865\n",
            "[16]\tvalidation_0-error:0.06851\n",
            "[17]\tvalidation_0-error:0.06768\n",
            "[18]\tvalidation_0-error:0.06719\n",
            "[19]\tvalidation_0-error:0.06666\n",
            "[20]\tvalidation_0-error:0.06607\n",
            "[21]\tvalidation_0-error:0.06576\n",
            "[22]\tvalidation_0-error:0.06555\n",
            "[23]\tvalidation_0-error:0.06527\n",
            "[24]\tvalidation_0-error:0.06544\n",
            "[25]\tvalidation_0-error:0.06523\n",
            "[26]\tvalidation_0-error:0.06562\n",
            "[27]\tvalidation_0-error:0.06551\n",
            "[28]\tvalidation_0-error:0.06513\n",
            "[29]\tvalidation_0-error:0.06495\n",
            "[30]\tvalidation_0-error:0.06492\n",
            "[31]\tvalidation_0-error:0.06516\n",
            "[32]\tvalidation_0-error:0.06474\n",
            "[33]\tvalidation_0-error:0.06450\n",
            "[34]\tvalidation_0-error:0.06457\n",
            "[35]\tvalidation_0-error:0.06426\n",
            "[36]\tvalidation_0-error:0.06422\n",
            "[37]\tvalidation_0-error:0.06391\n",
            "[38]\tvalidation_0-error:0.06377\n",
            "[39]\tvalidation_0-error:0.06405\n",
            "[40]\tvalidation_0-error:0.06405\n",
            "[41]\tvalidation_0-error:0.06377\n",
            "[42]\tvalidation_0-error:0.06356\n",
            "[43]\tvalidation_0-error:0.06352\n",
            "[44]\tvalidation_0-error:0.06342\n",
            "[45]\tvalidation_0-error:0.06317\n",
            "[46]\tvalidation_0-error:0.06314\n",
            "[47]\tvalidation_0-error:0.06310\n",
            "[48]\tvalidation_0-error:0.06303\n",
            "[49]\tvalidation_0-error:0.06286\n",
            "[50]\tvalidation_0-error:0.06286\n",
            "[51]\tvalidation_0-error:0.06293\n",
            "[52]\tvalidation_0-error:0.06269\n",
            "[53]\tvalidation_0-error:0.06265\n",
            "[54]\tvalidation_0-error:0.06265\n",
            "[55]\tvalidation_0-error:0.06255\n",
            "[56]\tvalidation_0-error:0.06248\n",
            "[57]\tvalidation_0-error:0.06237\n",
            "[58]\tvalidation_0-error:0.06248\n",
            "[59]\tvalidation_0-error:0.06241\n",
            "[60]\tvalidation_0-error:0.06237\n",
            "[61]\tvalidation_0-error:0.06244\n",
            "[62]\tvalidation_0-error:0.06234\n",
            "[63]\tvalidation_0-error:0.06227\n",
            "[64]\tvalidation_0-error:0.06241\n",
            "[65]\tvalidation_0-error:0.06244\n",
            "[66]\tvalidation_0-error:0.06244\n",
            "[67]\tvalidation_0-error:0.06251\n",
            "[68]\tvalidation_0-error:0.06213\n",
            "[69]\tvalidation_0-error:0.06202\n",
            "[70]\tvalidation_0-error:0.06199\n",
            "[71]\tvalidation_0-error:0.06202\n",
            "[72]\tvalidation_0-error:0.06206\n",
            "[73]\tvalidation_0-error:0.06206\n",
            "[74]\tvalidation_0-error:0.06220\n",
            "[75]\tvalidation_0-error:0.06213\n",
            "[76]\tvalidation_0-error:0.06199\n",
            "[77]\tvalidation_0-error:0.06220\n",
            "[78]\tvalidation_0-error:0.06223\n",
            "[79]\tvalidation_0-error:0.06227\n",
            "[80]\tvalidation_0-error:0.06237\n",
            "[81]\tvalidation_0-error:0.06237\n",
            "[82]\tvalidation_0-error:0.06227\n",
            "[83]\tvalidation_0-error:0.06216\n",
            "[84]\tvalidation_0-error:0.06213\n",
            "[85]\tvalidation_0-error:0.06216\n",
            "[86]\tvalidation_0-error:0.06230\n",
            "[87]\tvalidation_0-error:0.06220\n",
            "[88]\tvalidation_0-error:0.06237\n",
            "[89]\tvalidation_0-error:0.06234\n",
            "[90]\tvalidation_0-error:0.06209\n",
            "[91]\tvalidation_0-error:0.06223\n",
            "[92]\tvalidation_0-error:0.06220\n",
            "[93]\tvalidation_0-error:0.06213\n",
            "[94]\tvalidation_0-error:0.06223\n",
            "[95]\tvalidation_0-error:0.06234\n",
            "[96]\tvalidation_0-error:0.06237\n",
            "[97]\tvalidation_0-error:0.06241\n",
            "[98]\tvalidation_0-error:0.06227\n",
            "[99]\tvalidation_0-error:0.06234\n",
            "[0]\tvalidation_0-error:0.18163\n",
            "[1]\tvalidation_0-error:0.18163\n",
            "[2]\tvalidation_0-error:0.18163\n",
            "[3]\tvalidation_0-error:0.18163\n",
            "[4]\tvalidation_0-error:0.13047\n",
            "[5]\tvalidation_0-error:0.09385\n",
            "[6]\tvalidation_0-error:0.08377\n",
            "[7]\tvalidation_0-error:0.07811\n",
            "[8]\tvalidation_0-error:0.07487\n",
            "[9]\tvalidation_0-error:0.07162\n",
            "[10]\tvalidation_0-error:0.06918\n",
            "[11]\tvalidation_0-error:0.06701\n",
            "[12]\tvalidation_0-error:0.06649\n",
            "[13]\tvalidation_0-error:0.06600\n",
            "[14]\tvalidation_0-error:0.06495\n",
            "[15]\tvalidation_0-error:0.06401\n",
            "[16]\tvalidation_0-error:0.06394\n",
            "[17]\tvalidation_0-error:0.06356\n",
            "[18]\tvalidation_0-error:0.06356\n",
            "[19]\tvalidation_0-error:0.06335\n",
            "[20]\tvalidation_0-error:0.06321\n",
            "[21]\tvalidation_0-error:0.06296\n",
            "[22]\tvalidation_0-error:0.06286\n",
            "[23]\tvalidation_0-error:0.06248\n",
            "[24]\tvalidation_0-error:0.06216\n",
            "[25]\tvalidation_0-error:0.06171\n",
            "[26]\tvalidation_0-error:0.06160\n",
            "[27]\tvalidation_0-error:0.06111\n",
            "[28]\tvalidation_0-error:0.06087\n",
            "[29]\tvalidation_0-error:0.06038\n",
            "[30]\tvalidation_0-error:0.06021\n",
            "[31]\tvalidation_0-error:0.05989\n",
            "[32]\tvalidation_0-error:0.06014\n",
            "[33]\tvalidation_0-error:0.06021\n",
            "[34]\tvalidation_0-error:0.05996\n",
            "[35]\tvalidation_0-error:0.05989\n",
            "[36]\tvalidation_0-error:0.05982\n",
            "[37]\tvalidation_0-error:0.05986\n",
            "[38]\tvalidation_0-error:0.05972\n",
            "[39]\tvalidation_0-error:0.05940\n",
            "[40]\tvalidation_0-error:0.05926\n",
            "[41]\tvalidation_0-error:0.05906\n",
            "[42]\tvalidation_0-error:0.05888\n",
            "[43]\tvalidation_0-error:0.05892\n",
            "[44]\tvalidation_0-error:0.05885\n",
            "[45]\tvalidation_0-error:0.05895\n",
            "[46]\tvalidation_0-error:0.05874\n",
            "[47]\tvalidation_0-error:0.05881\n",
            "[48]\tvalidation_0-error:0.05899\n",
            "[49]\tvalidation_0-error:0.05895\n",
            "[50]\tvalidation_0-error:0.05881\n",
            "[51]\tvalidation_0-error:0.05895\n",
            "[52]\tvalidation_0-error:0.05867\n",
            "[53]\tvalidation_0-error:0.05892\n",
            "[54]\tvalidation_0-error:0.05878\n",
            "[55]\tvalidation_0-error:0.05885\n",
            "[56]\tvalidation_0-error:0.05881\n",
            "[57]\tvalidation_0-error:0.05888\n",
            "[58]\tvalidation_0-error:0.05874\n",
            "[59]\tvalidation_0-error:0.05867\n",
            "[60]\tvalidation_0-error:0.05860\n",
            "[61]\tvalidation_0-error:0.05867\n",
            "[62]\tvalidation_0-error:0.05871\n",
            "[63]\tvalidation_0-error:0.05839\n",
            "[64]\tvalidation_0-error:0.05857\n",
            "[65]\tvalidation_0-error:0.05853\n",
            "[66]\tvalidation_0-error:0.05836\n",
            "[67]\tvalidation_0-error:0.05832\n",
            "[68]\tvalidation_0-error:0.05839\n",
            "[69]\tvalidation_0-error:0.05843\n",
            "[70]\tvalidation_0-error:0.05839\n",
            "[71]\tvalidation_0-error:0.05843\n",
            "[72]\tvalidation_0-error:0.05829\n",
            "[73]\tvalidation_0-error:0.05836\n",
            "[74]\tvalidation_0-error:0.05818\n",
            "[75]\tvalidation_0-error:0.05811\n",
            "[76]\tvalidation_0-error:0.05815\n",
            "[77]\tvalidation_0-error:0.05836\n",
            "[78]\tvalidation_0-error:0.05846\n",
            "[79]\tvalidation_0-error:0.05843\n",
            "[80]\tvalidation_0-error:0.05846\n",
            "[81]\tvalidation_0-error:0.05839\n",
            "[82]\tvalidation_0-error:0.05818\n",
            "[83]\tvalidation_0-error:0.05825\n",
            "[84]\tvalidation_0-error:0.05808\n",
            "[85]\tvalidation_0-error:0.05801\n",
            "[86]\tvalidation_0-error:0.05797\n",
            "[87]\tvalidation_0-error:0.05797\n",
            "[88]\tvalidation_0-error:0.05801\n",
            "[89]\tvalidation_0-error:0.05808\n",
            "[90]\tvalidation_0-error:0.05811\n",
            "[91]\tvalidation_0-error:0.05804\n",
            "[92]\tvalidation_0-error:0.05825\n",
            "[93]\tvalidation_0-error:0.05825\n",
            "[94]\tvalidation_0-error:0.05832\n",
            "[95]\tvalidation_0-error:0.05825\n",
            "[96]\tvalidation_0-error:0.05825\n",
            "[97]\tvalidation_0-error:0.05829\n",
            "[98]\tvalidation_0-error:0.05832\n",
            "[99]\tvalidation_0-error:0.05829\n",
            "[0]\tvalidation_0-error:0.18163\n",
            "[1]\tvalidation_0-error:0.18163\n",
            "[2]\tvalidation_0-error:0.18163\n",
            "[3]\tvalidation_0-error:0.18163\n",
            "[4]\tvalidation_0-error:0.13364\n",
            "[5]\tvalidation_0-error:0.09717\n",
            "[6]\tvalidation_0-error:0.08443\n",
            "[7]\tvalidation_0-error:0.07947\n",
            "[8]\tvalidation_0-error:0.07581\n",
            "[9]\tvalidation_0-error:0.07288\n",
            "[10]\tvalidation_0-error:0.07186\n",
            "[11]\tvalidation_0-error:0.07057\n",
            "[12]\tvalidation_0-error:0.07002\n",
            "[13]\tvalidation_0-error:0.06907\n",
            "[14]\tvalidation_0-error:0.06837\n",
            "[15]\tvalidation_0-error:0.06757\n",
            "[16]\tvalidation_0-error:0.06726\n",
            "[17]\tvalidation_0-error:0.06698\n",
            "[18]\tvalidation_0-error:0.06642\n",
            "[19]\tvalidation_0-error:0.06642\n",
            "[20]\tvalidation_0-error:0.06632\n",
            "[21]\tvalidation_0-error:0.06565\n",
            "[22]\tvalidation_0-error:0.06558\n",
            "[23]\tvalidation_0-error:0.06520\n",
            "[24]\tvalidation_0-error:0.06485\n",
            "[25]\tvalidation_0-error:0.06461\n",
            "[26]\tvalidation_0-error:0.06450\n",
            "[27]\tvalidation_0-error:0.06429\n",
            "[28]\tvalidation_0-error:0.06370\n",
            "[29]\tvalidation_0-error:0.06342\n",
            "[30]\tvalidation_0-error:0.06338\n",
            "[31]\tvalidation_0-error:0.06335\n",
            "[32]\tvalidation_0-error:0.06338\n",
            "[33]\tvalidation_0-error:0.06328\n",
            "[34]\tvalidation_0-error:0.06300\n",
            "[35]\tvalidation_0-error:0.06314\n",
            "[36]\tvalidation_0-error:0.06307\n",
            "[37]\tvalidation_0-error:0.06255\n",
            "[38]\tvalidation_0-error:0.06255\n",
            "[39]\tvalidation_0-error:0.06230\n",
            "[40]\tvalidation_0-error:0.06234\n",
            "[41]\tvalidation_0-error:0.06251\n",
            "[42]\tvalidation_0-error:0.06223\n",
            "[43]\tvalidation_0-error:0.06216\n",
            "[44]\tvalidation_0-error:0.06234\n",
            "[45]\tvalidation_0-error:0.06206\n",
            "[46]\tvalidation_0-error:0.06195\n",
            "[47]\tvalidation_0-error:0.06213\n",
            "[48]\tvalidation_0-error:0.06206\n",
            "[49]\tvalidation_0-error:0.06234\n",
            "[50]\tvalidation_0-error:0.06241\n",
            "[51]\tvalidation_0-error:0.06223\n",
            "[52]\tvalidation_0-error:0.06206\n",
            "[53]\tvalidation_0-error:0.06202\n",
            "[54]\tvalidation_0-error:0.06192\n",
            "[55]\tvalidation_0-error:0.06206\n",
            "[56]\tvalidation_0-error:0.06195\n",
            "[57]\tvalidation_0-error:0.06185\n",
            "[58]\tvalidation_0-error:0.06150\n",
            "[59]\tvalidation_0-error:0.06164\n",
            "[60]\tvalidation_0-error:0.06143\n",
            "[61]\tvalidation_0-error:0.06143\n",
            "[62]\tvalidation_0-error:0.06150\n",
            "[63]\tvalidation_0-error:0.06150\n",
            "[64]\tvalidation_0-error:0.06150\n",
            "[65]\tvalidation_0-error:0.06164\n",
            "[66]\tvalidation_0-error:0.06174\n",
            "[67]\tvalidation_0-error:0.06146\n",
            "[68]\tvalidation_0-error:0.06157\n",
            "[69]\tvalidation_0-error:0.06146\n",
            "[70]\tvalidation_0-error:0.06146\n",
            "[71]\tvalidation_0-error:0.06157\n",
            "[72]\tvalidation_0-error:0.06129\n",
            "[73]\tvalidation_0-error:0.06122\n",
            "[74]\tvalidation_0-error:0.06143\n",
            "[75]\tvalidation_0-error:0.06143\n",
            "[76]\tvalidation_0-error:0.06125\n",
            "[77]\tvalidation_0-error:0.06136\n",
            "[78]\tvalidation_0-error:0.06122\n",
            "[79]\tvalidation_0-error:0.06122\n",
            "[80]\tvalidation_0-error:0.06122\n",
            "[81]\tvalidation_0-error:0.06125\n",
            "[82]\tvalidation_0-error:0.06118\n",
            "[83]\tvalidation_0-error:0.06111\n",
            "[84]\tvalidation_0-error:0.06132\n",
            "[85]\tvalidation_0-error:0.06132\n",
            "[86]\tvalidation_0-error:0.06118\n",
            "[87]\tvalidation_0-error:0.06139\n",
            "[88]\tvalidation_0-error:0.06146\n",
            "[89]\tvalidation_0-error:0.06150\n",
            "[90]\tvalidation_0-error:0.06150\n",
            "[91]\tvalidation_0-error:0.06139\n",
            "[92]\tvalidation_0-error:0.06136\n",
            "[93]\tvalidation_0-error:0.06139\n",
            "[94]\tvalidation_0-error:0.06132\n",
            "[95]\tvalidation_0-error:0.06136\n",
            "[96]\tvalidation_0-error:0.06125\n",
            "[97]\tvalidation_0-error:0.06115\n",
            "[98]\tvalidation_0-error:0.06125\n",
            "[99]\tvalidation_0-error:0.06115\n",
            "[0]\tvalidation_0-error:0.18167\n",
            "[1]\tvalidation_0-error:0.18167\n",
            "[2]\tvalidation_0-error:0.18167\n",
            "[3]\tvalidation_0-error:0.18167\n",
            "[4]\tvalidation_0-error:0.13155\n",
            "[5]\tvalidation_0-error:0.09972\n",
            "[6]\tvalidation_0-error:0.08673\n",
            "[7]\tvalidation_0-error:0.07958\n",
            "[8]\tvalidation_0-error:0.07480\n",
            "[9]\tvalidation_0-error:0.07207\n",
            "[10]\tvalidation_0-error:0.07071\n",
            "[11]\tvalidation_0-error:0.06946\n",
            "[12]\tvalidation_0-error:0.06803\n",
            "[13]\tvalidation_0-error:0.06733\n",
            "[14]\tvalidation_0-error:0.06698\n",
            "[15]\tvalidation_0-error:0.06712\n",
            "[16]\tvalidation_0-error:0.06625\n",
            "[17]\tvalidation_0-error:0.06597\n",
            "[18]\tvalidation_0-error:0.06537\n",
            "[19]\tvalidation_0-error:0.06544\n",
            "[20]\tvalidation_0-error:0.06523\n",
            "[21]\tvalidation_0-error:0.06506\n",
            "[22]\tvalidation_0-error:0.06509\n",
            "[23]\tvalidation_0-error:0.06495\n",
            "[24]\tvalidation_0-error:0.06433\n",
            "[25]\tvalidation_0-error:0.06394\n",
            "[26]\tvalidation_0-error:0.06363\n",
            "[27]\tvalidation_0-error:0.06349\n",
            "[28]\tvalidation_0-error:0.06359\n",
            "[29]\tvalidation_0-error:0.06338\n",
            "[30]\tvalidation_0-error:0.06335\n",
            "[31]\tvalidation_0-error:0.06331\n",
            "[32]\tvalidation_0-error:0.06349\n",
            "[33]\tvalidation_0-error:0.06352\n",
            "[34]\tvalidation_0-error:0.06338\n",
            "[35]\tvalidation_0-error:0.06296\n",
            "[36]\tvalidation_0-error:0.06283\n",
            "[37]\tvalidation_0-error:0.06265\n",
            "[38]\tvalidation_0-error:0.06262\n",
            "[39]\tvalidation_0-error:0.06269\n",
            "[40]\tvalidation_0-error:0.06255\n",
            "[41]\tvalidation_0-error:0.06269\n",
            "[42]\tvalidation_0-error:0.06251\n",
            "[43]\tvalidation_0-error:0.06251\n",
            "[44]\tvalidation_0-error:0.06248\n",
            "[45]\tvalidation_0-error:0.06230\n",
            "[46]\tvalidation_0-error:0.06209\n",
            "[47]\tvalidation_0-error:0.06192\n",
            "[48]\tvalidation_0-error:0.06202\n",
            "[49]\tvalidation_0-error:0.06195\n",
            "[50]\tvalidation_0-error:0.06167\n",
            "[51]\tvalidation_0-error:0.06192\n",
            "[52]\tvalidation_0-error:0.06188\n",
            "[53]\tvalidation_0-error:0.06171\n",
            "[54]\tvalidation_0-error:0.06174\n",
            "[55]\tvalidation_0-error:0.06185\n",
            "[56]\tvalidation_0-error:0.06178\n",
            "[57]\tvalidation_0-error:0.06185\n",
            "[58]\tvalidation_0-error:0.06192\n",
            "[59]\tvalidation_0-error:0.06195\n",
            "[60]\tvalidation_0-error:0.06185\n",
            "[61]\tvalidation_0-error:0.06188\n",
            "[62]\tvalidation_0-error:0.06188\n",
            "[63]\tvalidation_0-error:0.06167\n",
            "[64]\tvalidation_0-error:0.06178\n",
            "[65]\tvalidation_0-error:0.06181\n",
            "[66]\tvalidation_0-error:0.06160\n",
            "[67]\tvalidation_0-error:0.06174\n",
            "[68]\tvalidation_0-error:0.06181\n",
            "[69]\tvalidation_0-error:0.06164\n",
            "[70]\tvalidation_0-error:0.06171\n",
            "[71]\tvalidation_0-error:0.06160\n",
            "[72]\tvalidation_0-error:0.06167\n",
            "[73]\tvalidation_0-error:0.06171\n",
            "[74]\tvalidation_0-error:0.06167\n",
            "[75]\tvalidation_0-error:0.06178\n",
            "[76]\tvalidation_0-error:0.06160\n",
            "[77]\tvalidation_0-error:0.06157\n",
            "[78]\tvalidation_0-error:0.06150\n",
            "[79]\tvalidation_0-error:0.06160\n",
            "[80]\tvalidation_0-error:0.06164\n",
            "[81]\tvalidation_0-error:0.06150\n",
            "[82]\tvalidation_0-error:0.06164\n",
            "[83]\tvalidation_0-error:0.06150\n",
            "[84]\tvalidation_0-error:0.06143\n",
            "[85]\tvalidation_0-error:0.06143\n",
            "[86]\tvalidation_0-error:0.06150\n",
            "[87]\tvalidation_0-error:0.06139\n",
            "[88]\tvalidation_0-error:0.06132\n",
            "[89]\tvalidation_0-error:0.06136\n",
            "[90]\tvalidation_0-error:0.06132\n",
            "[91]\tvalidation_0-error:0.06143\n",
            "[92]\tvalidation_0-error:0.06139\n",
            "[93]\tvalidation_0-error:0.06115\n",
            "[94]\tvalidation_0-error:0.06118\n",
            "[95]\tvalidation_0-error:0.06139\n",
            "[96]\tvalidation_0-error:0.06115\n",
            "[97]\tvalidation_0-error:0.06108\n",
            "[98]\tvalidation_0-error:0.06091\n",
            "[99]\tvalidation_0-error:0.06108\n"
          ]
        },
        {
          "output_type": "error",
          "ename": "CatBoostError",
          "evalue": "catboost/cuda/cuda_lib/cuda_manager.cpp:201: Condition violated: `State == nullptr'",
          "traceback": [
            "\u001b[0;31m---------------------------------------------------------------------------\u001b[0m",
            "\u001b[0;31mCatBoostError\u001b[0m                             Traceback (most recent call last)",
            "\u001b[0;32m<ipython-input-23-3294b7b74670>\u001b[0m in \u001b[0;36m<cell line: 33>\u001b[0;34m()\u001b[0m\n\u001b[1;32m     44\u001b[0m     \u001b[0mX_tr\u001b[0m\u001b[0;34m,\u001b[0m \u001b[0mX_te\u001b[0m \u001b[0;34m=\u001b[0m \u001b[0mX_train\u001b[0m\u001b[0;34m,\u001b[0m \u001b[0mX_test\u001b[0m\u001b[0;34m.\u001b[0m\u001b[0mdrop\u001b[0m\u001b[0;34m(\u001b[0m\u001b[0mcolumns\u001b[0m\u001b[0;34m=\u001b[0m\u001b[0;34m[\u001b[0m\u001b[0;34m'id'\u001b[0m\u001b[0;34m]\u001b[0m\u001b[0;34m)\u001b[0m\u001b[0;34m\u001b[0m\u001b[0;34m\u001b[0m\u001b[0m\n\u001b[1;32m     45\u001b[0m \u001b[0;34m\u001b[0m\u001b[0m\n\u001b[0;32m---> 46\u001b[0;31m   \u001b[0mmean_accuracy\u001b[0m\u001b[0;34m,\u001b[0m \u001b[0moof_pred\u001b[0m\u001b[0;34m,\u001b[0m \u001b[0mtest_pred\u001b[0m \u001b[0;34m=\u001b[0m \u001b[0mcross_validate\u001b[0m\u001b[0;34m(\u001b[0m\u001b[0mmodel\u001b[0m\u001b[0;34m,\u001b[0m \u001b[0mX_tr\u001b[0m\u001b[0;34m,\u001b[0m \u001b[0mX_te\u001b[0m\u001b[0;34m,\u001b[0m \u001b[0my_train\u001b[0m\u001b[0;34m,\u001b[0m \u001b[0mcv\u001b[0m\u001b[0;34m=\u001b[0m\u001b[0;36m5\u001b[0m\u001b[0;34m)\u001b[0m\u001b[0;34m\u001b[0m\u001b[0;34m\u001b[0m\u001b[0m\n\u001b[0m\u001b[1;32m     47\u001b[0m   \u001b[0moof_preds\u001b[0m\u001b[0;34m[\u001b[0m\u001b[0mmodel_name\u001b[0m\u001b[0;34m]\u001b[0m \u001b[0;34m=\u001b[0m \u001b[0moof_pred\u001b[0m\u001b[0;34m\u001b[0m\u001b[0;34m\u001b[0m\u001b[0m\n\u001b[1;32m     48\u001b[0m   \u001b[0mtest_preds\u001b[0m\u001b[0;34m[\u001b[0m\u001b[0mmodel_name\u001b[0m\u001b[0;34m]\u001b[0m \u001b[0;34m=\u001b[0m \u001b[0mtest_pred\u001b[0m\u001b[0;34m\u001b[0m\u001b[0;34m\u001b[0m\u001b[0m\n",
            "\u001b[0;32m<ipython-input-23-3294b7b74670>\u001b[0m in \u001b[0;36mcross_validate\u001b[0;34m(model, X_train, X_test, y_train, cv)\u001b[0m\n\u001b[1;32m     10\u001b[0m       \u001b[0my_train_fold\u001b[0m\u001b[0;34m,\u001b[0m \u001b[0my_test_fold\u001b[0m \u001b[0;34m=\u001b[0m \u001b[0my_train\u001b[0m\u001b[0;34m.\u001b[0m\u001b[0miloc\u001b[0m\u001b[0;34m[\u001b[0m\u001b[0mtrain_index\u001b[0m\u001b[0;34m]\u001b[0m\u001b[0;34m,\u001b[0m \u001b[0my_train\u001b[0m\u001b[0;34m.\u001b[0m\u001b[0miloc\u001b[0m\u001b[0;34m[\u001b[0m\u001b[0mtest_index\u001b[0m\u001b[0;34m]\u001b[0m\u001b[0;34m\u001b[0m\u001b[0;34m\u001b[0m\u001b[0m\n\u001b[1;32m     11\u001b[0m       \u001b[0;32mif\u001b[0m \u001b[0mmodel\u001b[0m\u001b[0;34m.\u001b[0m\u001b[0m__class__\u001b[0m\u001b[0;34m.\u001b[0m\u001b[0m__name__\u001b[0m \u001b[0;34m==\u001b[0m \u001b[0;34m'CatBoostClassifier'\u001b[0m\u001b[0;34m:\u001b[0m\u001b[0;34m\u001b[0m\u001b[0;34m\u001b[0m\u001b[0m\n\u001b[0;32m---> 12\u001b[0;31m         model.fit(X_train_fold, y_train_fold,\n\u001b[0m\u001b[1;32m     13\u001b[0m                   \u001b[0meval_set\u001b[0m\u001b[0;34m=\u001b[0m\u001b[0;34m[\u001b[0m\u001b[0;34m(\u001b[0m\u001b[0mX_test_fold\u001b[0m\u001b[0;34m,\u001b[0m \u001b[0my_test_fold\u001b[0m\u001b[0;34m)\u001b[0m\u001b[0;34m]\u001b[0m\u001b[0;34m,\u001b[0m\u001b[0;34m\u001b[0m\u001b[0;34m\u001b[0m\u001b[0m\n\u001b[1;32m     14\u001b[0m                   \u001b[0muse_best_model\u001b[0m\u001b[0;34m=\u001b[0m\u001b[0;32mTrue\u001b[0m\u001b[0;34m,\u001b[0m\u001b[0;34m\u001b[0m\u001b[0;34m\u001b[0m\u001b[0m\n",
            "\u001b[0;32m/usr/local/lib/python3.10/dist-packages/catboost/core.py\u001b[0m in \u001b[0;36mfit\u001b[0;34m(self, X, y, cat_features, text_features, embedding_features, graph, sample_weight, baseline, use_best_model, eval_set, verbose, logging_level, plot, plot_file, column_description, verbose_eval, metric_period, silent, early_stopping_rounds, save_snapshot, snapshot_file, snapshot_interval, init_model, callbacks, log_cout, log_cerr)\u001b[0m\n\u001b[1;32m   5243\u001b[0m             \u001b[0mCatBoostClassifier\u001b[0m\u001b[0;34m.\u001b[0m\u001b[0m_check_is_compatible_loss\u001b[0m\u001b[0;34m(\u001b[0m\u001b[0mparams\u001b[0m\u001b[0;34m[\u001b[0m\u001b[0;34m'loss_function'\u001b[0m\u001b[0;34m]\u001b[0m\u001b[0;34m)\u001b[0m\u001b[0;34m\u001b[0m\u001b[0;34m\u001b[0m\u001b[0m\n\u001b[1;32m   5244\u001b[0m \u001b[0;34m\u001b[0m\u001b[0m\n\u001b[0;32m-> 5245\u001b[0;31m         self._fit(X, y, cat_features, text_features, embedding_features, None, graph, sample_weight, None, None, None, None, baseline, use_best_model,\n\u001b[0m\u001b[1;32m   5246\u001b[0m                   \u001b[0meval_set\u001b[0m\u001b[0;34m,\u001b[0m \u001b[0mverbose\u001b[0m\u001b[0;34m,\u001b[0m \u001b[0mlogging_level\u001b[0m\u001b[0;34m,\u001b[0m \u001b[0mplot\u001b[0m\u001b[0;34m,\u001b[0m \u001b[0mplot_file\u001b[0m\u001b[0;34m,\u001b[0m \u001b[0mcolumn_description\u001b[0m\u001b[0;34m,\u001b[0m \u001b[0mverbose_eval\u001b[0m\u001b[0;34m,\u001b[0m \u001b[0mmetric_period\u001b[0m\u001b[0;34m,\u001b[0m\u001b[0;34m\u001b[0m\u001b[0;34m\u001b[0m\u001b[0m\n\u001b[1;32m   5247\u001b[0m                   silent, early_stopping_rounds, save_snapshot, snapshot_file, snapshot_interval, init_model, callbacks, log_cout, log_cerr)\n",
            "\u001b[0;32m/usr/local/lib/python3.10/dist-packages/catboost/core.py\u001b[0m in \u001b[0;36m_fit\u001b[0;34m(self, X, y, cat_features, text_features, embedding_features, pairs, graph, sample_weight, group_id, group_weight, subgroup_id, pairs_weight, baseline, use_best_model, eval_set, verbose, logging_level, plot, plot_file, column_description, verbose_eval, metric_period, silent, early_stopping_rounds, save_snapshot, snapshot_file, snapshot_interval, init_model, callbacks, log_cout, log_cerr)\u001b[0m\n\u001b[1;32m   2408\u001b[0m \u001b[0;34m\u001b[0m\u001b[0m\n\u001b[1;32m   2409\u001b[0m             \u001b[0;32mwith\u001b[0m \u001b[0mplot_wrapper\u001b[0m\u001b[0;34m(\u001b[0m\u001b[0mplot\u001b[0m\u001b[0;34m,\u001b[0m \u001b[0mplot_file\u001b[0m\u001b[0;34m,\u001b[0m \u001b[0;34m'Training plots'\u001b[0m\u001b[0;34m,\u001b[0m \u001b[0;34m[\u001b[0m\u001b[0m_get_train_dir\u001b[0m\u001b[0;34m(\u001b[0m\u001b[0mself\u001b[0m\u001b[0;34m.\u001b[0m\u001b[0mget_params\u001b[0m\u001b[0;34m(\u001b[0m\u001b[0;34m)\u001b[0m\u001b[0;34m)\u001b[0m\u001b[0;34m]\u001b[0m\u001b[0;34m)\u001b[0m\u001b[0;34m:\u001b[0m\u001b[0;34m\u001b[0m\u001b[0;34m\u001b[0m\u001b[0m\n\u001b[0;32m-> 2410\u001b[0;31m                 self._train(\n\u001b[0m\u001b[1;32m   2411\u001b[0m                     \u001b[0mtrain_pool\u001b[0m\u001b[0;34m,\u001b[0m\u001b[0;34m\u001b[0m\u001b[0;34m\u001b[0m\u001b[0m\n\u001b[1;32m   2412\u001b[0m                     \u001b[0mtrain_params\u001b[0m\u001b[0;34m[\u001b[0m\u001b[0;34m\"eval_sets\"\u001b[0m\u001b[0;34m]\u001b[0m\u001b[0;34m,\u001b[0m\u001b[0;34m\u001b[0m\u001b[0;34m\u001b[0m\u001b[0m\n",
            "\u001b[0;32m/usr/local/lib/python3.10/dist-packages/catboost/core.py\u001b[0m in \u001b[0;36m_train\u001b[0;34m(self, train_pool, test_pool, params, allow_clear_pool, init_model)\u001b[0m\n\u001b[1;32m   1788\u001b[0m \u001b[0;34m\u001b[0m\u001b[0m\n\u001b[1;32m   1789\u001b[0m     \u001b[0;32mdef\u001b[0m \u001b[0m_train\u001b[0m\u001b[0;34m(\u001b[0m\u001b[0mself\u001b[0m\u001b[0;34m,\u001b[0m \u001b[0mtrain_pool\u001b[0m\u001b[0;34m,\u001b[0m \u001b[0mtest_pool\u001b[0m\u001b[0;34m,\u001b[0m \u001b[0mparams\u001b[0m\u001b[0;34m,\u001b[0m \u001b[0mallow_clear_pool\u001b[0m\u001b[0;34m,\u001b[0m \u001b[0minit_model\u001b[0m\u001b[0;34m)\u001b[0m\u001b[0;34m:\u001b[0m\u001b[0;34m\u001b[0m\u001b[0;34m\u001b[0m\u001b[0m\n\u001b[0;32m-> 1790\u001b[0;31m         \u001b[0mself\u001b[0m\u001b[0;34m.\u001b[0m\u001b[0m_object\u001b[0m\u001b[0;34m.\u001b[0m\u001b[0m_train\u001b[0m\u001b[0;34m(\u001b[0m\u001b[0mtrain_pool\u001b[0m\u001b[0;34m,\u001b[0m \u001b[0mtest_pool\u001b[0m\u001b[0;34m,\u001b[0m \u001b[0mparams\u001b[0m\u001b[0;34m,\u001b[0m \u001b[0mallow_clear_pool\u001b[0m\u001b[0;34m,\u001b[0m \u001b[0minit_model\u001b[0m\u001b[0;34m.\u001b[0m\u001b[0m_object\u001b[0m \u001b[0;32mif\u001b[0m \u001b[0minit_model\u001b[0m \u001b[0;32melse\u001b[0m \u001b[0;32mNone\u001b[0m\u001b[0;34m)\u001b[0m\u001b[0;34m\u001b[0m\u001b[0;34m\u001b[0m\u001b[0m\n\u001b[0m\u001b[1;32m   1791\u001b[0m         \u001b[0mself\u001b[0m\u001b[0;34m.\u001b[0m\u001b[0m_set_trained_model_attributes\u001b[0m\u001b[0;34m(\u001b[0m\u001b[0;34m)\u001b[0m\u001b[0;34m\u001b[0m\u001b[0;34m\u001b[0m\u001b[0m\n\u001b[1;32m   1792\u001b[0m \u001b[0;34m\u001b[0m\u001b[0m\n",
            "\u001b[0;32m_catboost.pyx\u001b[0m in \u001b[0;36m_catboost._CatBoost._train\u001b[0;34m()\u001b[0m\n",
            "\u001b[0;32m_catboost.pyx\u001b[0m in \u001b[0;36m_catboost._CatBoost._train\u001b[0;34m()\u001b[0m\n",
            "\u001b[0;31mCatBoostError\u001b[0m: catboost/cuda/cuda_lib/cuda_manager.cpp:201: Condition violated: `State == nullptr'"
          ]
        }
      ]
    },
    {
      "cell_type": "markdown",
      "source": [
        "## Model Tuning"
      ],
      "metadata": {
        "id": "A2DGwqTeI5bp"
      }
    },
    {
      "cell_type": "markdown",
      "source": [
        "### Hyperparameter Tuning"
      ],
      "metadata": {
        "id": "he4Gd6nnI83I"
      }
    },
    {
      "cell_type": "code",
      "source": [
        "# Done in separate notebook already"
      ],
      "metadata": {
        "id": "EH5WQ77xmDgf"
      },
      "execution_count": null,
      "outputs": []
    },
    {
      "cell_type": "markdown",
      "source": [
        "{'iterations': 1442, 'depth': 5, 'learning_rate': 0.06905364829124568, 'l2_leaf_reg': 0.0066929612736035355, 'border_count': 162, 'random_strength': 0.7450573059421522, 'bootstrap_type': 'Bernoulli', 'od_type': 'Iter', 'od_wait': 45, 'min_data_in_leaf': 4, 'scale_pos_weight': 0.6987162615326387}"
      ],
      "metadata": {
        "id": "AuyRbdvwmLKf"
      }
    },
    {
      "cell_type": "markdown",
      "source": [
        "### Re-evaluation"
      ],
      "metadata": {
        "id": "xOVFv0XBKCeA"
      }
    },
    {
      "cell_type": "markdown",
      "source": [
        "# Ensemble Learning"
      ],
      "metadata": {
        "id": "ueOI1DTa0H3A"
      }
    },
    {
      "cell_type": "code",
      "source": [
        "oof_pred_df = pd.DataFrame({\n",
        "    'LR': oof_preds['LR'],\n",
        "    'CB': oof_preds['CB'],\n",
        "    'XGB': oof_preds['XGB']\n",
        "})\n",
        "\n",
        "test_pred_df = pd.DataFrame({\n",
        "    'LR': test_preds['LR'],\n",
        "    'CB': test_preds['CB'],\n",
        "    'XGB': test_preds['XGB']\n",
        "})\n",
        "\n",
        "def thresholded_accuracy_score(y_true, y_pred):\n",
        "    y_pred_binary = (y_pred >= 0.5).astype(int)\n",
        "    return accuracy_score(y_true, y_pred_binary)\n",
        "\n",
        "blended_test_preds, oof_blend = climb_hill(\n",
        "    train=data[['Depression']],\n",
        "    oof_pred_df=oof_pred_df,\n",
        "    test_pred_df=test_pred_df,\n",
        "    target='Depression',\n",
        "    objective='maximize',\n",
        "    eval_metric=partial(thresholded_accuracy_score),\n",
        "    negative_weights=False,\n",
        "    precision=0.01,\n",
        "    plot_hill=False,\n",
        "    return_oof_preds=True\n",
        ")\n",
        "\n",
        "thresholds = np.arange(0, 0.3, 0.5, 0.4, 0.6, 1, 0.01)\n",
        "best_threshold = max(thresholds, key=lambda t: accuracy_score(y_train, (oof_blend >= t).astype(int)))\n",
        "print(f\"Optimal Threshold: {best_threshold:.2f}\")\n",
        "final_test_preds = (blended_test_preds >= best_threshold).astype(int)\n",
        "\n",
        "final_blended_accuracy = accuracy_score(\n",
        "    data['Depression'],  # True labels\n",
        "    (oof_blend >= best_threshold).astype(int)  # Convert blended probabilities to binary predictions\n",
        ")\n",
        "\n",
        "print(f\"Final blended accuracy: {final_blended_accuracy:.4f}\")"
      ],
      "metadata": {
        "id": "XS_GNBWY0KtU"
      },
      "execution_count": null,
      "outputs": []
    },
    {
      "cell_type": "markdown",
      "source": [
        "# Submission"
      ],
      "metadata": {
        "id": "Dodqhfg5Cycx"
      }
    },
    {
      "cell_type": "code",
      "execution_count": null,
      "metadata": {
        "id": "WJ7uDY-BtWgO"
      },
      "outputs": [],
      "source": [
        "submission = pd.DataFrame({'id': X_test[\"id\"], 'Depression': blended_test_preds})\n",
        "submission['Depression'] = submission['Depression'].astype(int)\n",
        "submission.to_csv('blended_submission.csv', index=False)"
      ]
    },
    {
      "cell_type": "markdown",
      "source": [
        "0.9382871357498223 (base)\n",
        "\n",
        "0.9383013503909027 (normalise on train+test)\n",
        "\n",
        "0.938711106850682 (append original dataset)\n",
        "\n",
        "0.9387320477972129 (Stas feature engineering)\n",
        "\n",
        "0.9412940583293394 (final)"
      ],
      "metadata": {
        "id": "el0tCwPp0jbR"
      }
    },
    {
      "cell_type": "markdown",
      "source": [
        "0.9323346 (cat features)\n",
        "\n",
        "0.9335096 (regular features)\n",
        "\n",
        "0.9336834 (combined features)"
      ],
      "metadata": {
        "id": "7XDjnA2MWFhH"
      }
    }
  ],
  "metadata": {
    "kernelspec": {
      "display_name": "Python 3",
      "name": "python3"
    },
    "language_info": {
      "codemirror_mode": {
        "name": "ipython",
        "version": 3
      },
      "file_extension": ".py",
      "mimetype": "text/x-python",
      "name": "python",
      "nbconvert_exporter": "python",
      "pygments_lexer": "ipython3",
      "version": "3.10.10"
    },
    "colab": {
      "provenance": []
    }
  },
  "nbformat": 4,
  "nbformat_minor": 0
}