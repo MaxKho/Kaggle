{
 "cells": [
  {
   "cell_type": "markdown",
   "metadata": {
    "colab_type": "text",
    "id": "view-in-github"
   },
   "source": [
    "<a href=\"https://colab.research.google.com/github/MaxKho/Kaggle/blob/main/Kaggle_Submission_Template.ipynb\" target=\"_parent\"><img src=\"https://colab.research.google.com/assets/colab-badge.svg\" alt=\"Open In Colab\"/></a>"
   ]
  },
  {
   "cell_type": "markdown",
   "metadata": {
    "id": "xcG9WwtPMQb3"
   },
   "source": [
    "# Imports and Installs"
   ]
  },
  {
   "cell_type": "markdown",
   "metadata": {
    "id": "M0xwGvVLMcgl"
   },
   "source": [
    "# Data Loading"
   ]
  },
  {
   "cell_type": "markdown",
   "metadata": {
    "id": "o3ElaN-hf4Zo"
   },
   "source": [
    "## (Optional) Data Enhancement"
   ]
  },
  {
   "cell_type": "markdown",
   "metadata": {
    "id": "NolaSI-LNrvn"
   },
   "source": [
    "# (Optional) EDA (Explorative Data Analysis)"
   ]
  },
  {
   "cell_type": "markdown",
   "metadata": {
    "id": "q-WN9BCaLi6G"
   },
   "source": [
    "# Data Preprocessing"
   ]
  },
  {
   "cell_type": "markdown",
   "metadata": {
    "id": "Hl9qGg6xLuAj"
   },
   "source": [
    "## Data Cleaning"
   ]
  },
  {
   "cell_type": "markdown",
   "metadata": {},
   "source": [
    "### Missing Value Handling"
   ]
  },
  {
   "cell_type": "markdown",
   "metadata": {
    "id": "0VNk3rHANA7V"
   },
   "source": [
    "## Encoding"
   ]
  },
  {
   "cell_type": "markdown",
   "metadata": {
    "id": "RaoW1sawNhXQ"
   },
   "source": [
    "## (Optional) Feature Engineering"
   ]
  },
  {
   "cell_type": "markdown",
   "metadata": {
    "id": "DOUvmhhKOOeA"
   },
   "source": [
    "## Train-Test Split"
   ]
  },
  {
   "cell_type": "markdown",
   "metadata": {
    "id": "gbTvPMrFNPp-"
   },
   "source": [
    "## Normalisation"
   ]
  },
  {
   "cell_type": "markdown",
   "metadata": {
    "id": "YHs3ag34OiuD"
   },
   "source": [
    "# Model Handling"
   ]
  },
  {
   "cell_type": "markdown",
   "metadata": {
    "id": "2axEbRDYO-Yd"
   },
   "source": [
    "## Model Selection"
   ]
  },
  {
   "cell_type": "markdown",
   "metadata": {
    "id": "CNzDjxg6PTPi"
   },
   "source": [
    "## Model Evaluation"
   ]
  },
  {
   "cell_type": "code",
   "execution_count": null,
   "metadata": {
    "id": "OZ18c283XTr0"
   },
   "outputs": [],
   "source": [
    "# Model training\n",
    "# Model predictions\n",
    "# Performance summary\n",
    "\n",
    "### Recommended: complete the model training and model prediction during cross-validation"
   ]
  },
  {
   "cell_type": "markdown",
   "metadata": {
    "id": "tQIBLbk6PXBv"
   },
   "source": [
    "## Model Tuning"
   ]
  },
  {
   "cell_type": "markdown",
   "metadata": {
    "id": "HRhJubybPbF3"
   },
   "source": [
    "### Hyperparameter Optimisation"
   ]
  },
  {
   "cell_type": "markdown",
   "metadata": {
    "id": "E6u5CBo2gNIJ"
   },
   "source": [
    "### (Optional) Parameter Summary"
   ]
  },
  {
   "cell_type": "markdown",
   "metadata": {
    "id": "3WqihjvTeQAt"
   },
   "source": [
    "# (Optional) Ensemble Learning"
   ]
  },
  {
   "cell_type": "markdown",
   "metadata": {
    "id": "YdIR1v9chUTT"
   },
   "source": [
    "## Training"
   ]
  },
  {
   "cell_type": "markdown",
   "metadata": {
    "id": "ie6Oo6EoheYY"
   },
   "source": [
    "## Evaluation"
   ]
  },
  {
   "cell_type": "markdown",
   "metadata": {
    "id": "MijyTZNkhXpb"
   },
   "source": [
    "# Submission"
   ]
  },
  {
   "cell_type": "markdown",
   "metadata": {},
   "source": [
    "## Data Preprocessing"
   ]
  },
  {
   "cell_type": "markdown",
   "metadata": {},
   "source": [
    "## Prediction"
   ]
  },
  {
   "cell_type": "markdown",
   "metadata": {},
   "source": [
    "## Submission File Creation"
   ]
  },
  {
   "cell_type": "markdown",
   "metadata": {
    "id": "u8bRFZpwhpEE"
   },
   "source": [
    "# (Optional) To-Do List"
   ]
  }
 ],
 "metadata": {
  "colab": {
   "authorship_tag": "ABX9TyPuBnDr5QL+/V81mOM+Il8t",
   "include_colab_link": true,
   "provenance": []
  },
  "kernelspec": {
   "display_name": "Python 3",
   "name": "python3"
  },
  "language_info": {
   "name": "python"
  }
 },
 "nbformat": 4,
 "nbformat_minor": 0
}
